{
 "cells": [
  {
   "cell_type": "markdown",
   "id": "e5298a75",
   "metadata": {
    "lines_to_next_cell": 0
   },
   "source": [
    "## Markdown Text Dude"
   ]
  },
  {
   "cell_type": "code",
   "execution_count": null,
   "id": "060a57b8",
   "metadata": {
    "lines_to_next_cell": 0
   },
   "outputs": [],
   "source": [
    "println(\"Hola aaaaaaaa\")"
   ]
  },
  {
   "cell_type": "code",
   "execution_count": null,
   "id": "7edf5096",
   "metadata": {
    "lines_to_next_cell": 0
   },
   "outputs": [],
   "source": [
    "my_answer = 42\n",
    "typeof(my_answer)"
   ]
  },
  {
   "cell_type": "code",
   "execution_count": null,
   "id": "ffa7ec23",
   "metadata": {
    "lines_to_next_cell": 0
   },
   "outputs": [],
   "source": [
    "my_pi = 3.14159\n",
    "typeof(my_pi)"
   ]
  },
  {
   "cell_type": "code",
   "execution_count": null,
   "id": "7476c363",
   "metadata": {
    "lines_to_next_cell": 0
   },
   "outputs": [],
   "source": [
    "😄 = 1\n",
    "typeof(😄)"
   ]
  },
  {
   "cell_type": "code",
   "execution_count": null,
   "id": "a87d5893",
   "metadata": {
    "lines_to_next_cell": 0
   },
   "outputs": [],
   "source": [
    "sum = 3 + 7\n",
    "difference = 10 - 3\n",
    "product = 20 * 5\n",
    "quotient = 100 / 10\n",
    "power = 10 ^ 2\n",
    "modulus = 101 % 2"
   ]
  },
  {
   "cell_type": "code",
   "execution_count": null,
   "id": "dc0d434c",
   "metadata": {
    "lines_to_next_cell": 0
   },
   "outputs": [],
   "source": [
    "days = 365\n",
    "days_float = convert(Float64, days)"
   ]
  },
  {
   "cell_type": "code",
   "execution_count": null,
   "id": "e46fc1c0",
   "metadata": {
    "lines_to_next_cell": 0
   },
   "outputs": [],
   "source": [
    "@assert days == 365\n",
    "@assert days_float == 365.0"
   ]
  },
  {
   "cell_type": "code",
   "execution_count": null,
   "id": "9ced8e3d",
   "metadata": {
    "lines_to_next_cell": 0
   },
   "outputs": [],
   "source": [
    "# Double quotes cast type to string while single quotes cast to char\n",
    "convert(Int64, \"1\")\n",
    "parse(Int64, \"1\")"
   ]
  },
  {
   "cell_type": "code",
   "execution_count": null,
   "id": "6ded94e5",
   "metadata": {
    "lines_to_next_cell": 0
   },
   "outputs": [],
   "source": [
    "typeof('1')"
   ]
  },
  {
   "cell_type": "code",
   "execution_count": null,
   "id": "56c3cd0c-cd7f-4363-b1c4-ecb68d9955b0",
   "metadata": {
    "lines_to_next_cell": 2
   },
   "outputs": [],
   "source": []
  }
 ],
 "metadata": {
  "jupytext": {
   "encoding": "# -*- coding: utf-8 -*-"
  },
  "kernelspec": {
   "display_name": "Julia 1.11.1",
   "language": "julia",
   "name": "julia-1.11"
  },
  "language_info": {
   "file_extension": ".jl",
   "mimetype": "application/julia",
   "name": "julia",
   "version": "1.11.1"
  }
 },
 "nbformat": 4,
 "nbformat_minor": 5
}
